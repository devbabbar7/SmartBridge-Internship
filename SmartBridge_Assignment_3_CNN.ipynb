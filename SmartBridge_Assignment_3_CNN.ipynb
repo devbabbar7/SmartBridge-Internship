{
  "cells": [
    {
      "cell_type": "code",
      "execution_count": null,
      "metadata": {
        "id": "Umj7B0DGoxcV"
      },
      "outputs": [],
      "source": [
        "from google.colab import files\n",
        "files.upload()"
      ]
    },
    {
      "cell_type": "code",
      "execution_count": 3,
      "metadata": {
        "colab": {
          "base_uri": "https://localhost:8080/"
        },
        "id": "fvfMDQ9llUmv",
        "outputId": "bb2c3891-769a-4e03-a582-9573c479dfa9"
      },
      "outputs": [
        {
          "name": "stdout",
          "output_type": "stream",
          "text": [
            "rm: cannot remove '/root/.kaggle': No such file or directory\n"
          ]
        }
      ],
      "source": [
        "!rm -r ~/.kaggle\n",
        "!mkdir ~/.kaggle\n",
        "!mv ./kaggle.json ~/.kaggle/\n",
        "!chmod 600 ~/.kaggle/kaggle.json"
      ]
    },
    {
      "cell_type": "code",
      "execution_count": 4,
      "metadata": {
        "colab": {
          "base_uri": "https://localhost:8080/"
        },
        "id": "Bid9PbuFmHi1",
        "outputId": "2d3644e5-cea1-4e81-f55c-cc24d5d3f359"
      },
      "outputs": [
        {
          "name": "stdout",
          "output_type": "stream",
          "text": [
            "Downloading bird-species-classification.zip to /content\n",
            "100% 1.37G/1.37G [00:13<00:00, 37.3MB/s]\n",
            "100% 1.37G/1.37G [00:13<00:00, 106MB/s] \n"
          ]
        }
      ],
      "source": [
        "!kaggle datasets download -d akash2907/bird-species-classification"
      ]
    },
    {
      "cell_type": "code",
      "execution_count": 5,
      "metadata": {
        "colab": {
          "base_uri": "https://localhost:8080/"
        },
        "id": "3JYZT1wmmMyX",
        "outputId": "84f7dbae-cb6e-4227-a6c1-b4d85de47034"
      },
      "outputs": [
        {
          "name": "stdout",
          "output_type": "stream",
          "text": [
            "cp: missing destination file operand after '/content/bird-species-classification.zip'\n",
            "Try 'cp --help' for more information.\n"
          ]
        }
      ],
      "source": [
        "!mkdir Dataset\n",
        "!cp /content/bird-species-classification.zip\n",
        "!unzip -q /content/bird-species-classification.zip -d /content/Dataset\n",
        "!rm /content/bird-species-classification.zip"
      ]
    },
    {
      "cell_type": "code",
      "execution_count": 6,
      "metadata": {
        "id": "NBXxBdqXmmJF"
      },
      "outputs": [],
      "source": [
        "import tensorflow as tf\n",
        "from tensorflow import keras\n",
        "from tensorflow.keras.preprocessing.image import ImageDataGenerator"
      ]
    },
    {
      "cell_type": "code",
      "execution_count": 7,
      "metadata": {
        "id": "X6lBjU_6pacC"
      },
      "outputs": [],
      "source": [
        "train_data_dir = 'Dataset/train_data/train_data'\n",
        "test_data_dir = 'Dataset/test_data/test_data'"
      ]
    },
    {
      "cell_type": "code",
      "execution_count": 8,
      "metadata": {
        "colab": {
          "base_uri": "https://localhost:8080/"
        },
        "id": "HcbBGuEvph6d",
        "outputId": "a15df7de-77d3-48c8-8f8d-2db69e50330e"
      },
      "outputs": [
        {
          "name": "stdout",
          "output_type": "stream",
          "text": [
            "Found 150 images belonging to 16 classes.\n",
            "Found 157 images belonging to 16 classes.\n"
          ]
        }
      ],
      "source": [
        "img_height, img_width = 224, 224\n",
        "batch_size = 32\n",
        "train_data_generator = ImageDataGenerator(rescale=1./255,  # normalize pixel values between 0 and 1\n",
        "                                          rotation_range=20,  # random rotations\n",
        "                                          width_shift_range=0.2,  # random horizontal shifts\n",
        "                                          height_shift_range=0.2,  # random vertical shifts\n",
        "                                          shear_range=0.2,  # random shearing\n",
        "                                          zoom_range=0.2,  # random zoom\n",
        "                                          horizontal_flip=True)  # random horizontal flips\n",
        "\n",
        "test_data_generator = ImageDataGenerator(rescale=1./255)  # only rescale test data\n",
        "\n",
        "train_generator = train_data_generator.flow_from_directory(train_data_dir,\n",
        "                                                          target_size=(img_height, img_width),\n",
        "                                                          batch_size=batch_size,\n",
        "                                                          class_mode='categorical')\n",
        "\n",
        "test_generator = test_data_generator.flow_from_directory(test_data_dir,\n",
        "                                                        target_size=(img_height, img_width),\n",
        "                                                        batch_size=batch_size,\n",
        "                                                        class_mode='categorical')"
      ]
    },
    {
      "cell_type": "code",
      "execution_count": 9,
      "metadata": {
        "id": "71cHaAMOp2wi"
      },
      "outputs": [],
      "source": [
        "model = keras.Sequential([\n",
        "    keras.layers.Conv2D(32, (3, 3), activation='relu', input_shape=(img_height, img_width, 3)),\n",
        "    keras.layers.MaxPooling2D((2, 2)),\n",
        "    keras.layers.Conv2D(64, (3, 3), activation='relu'),\n",
        "    keras.layers.MaxPooling2D((2, 2)),\n",
        "    keras.layers.Conv2D(128, (3, 3), activation='relu'),\n",
        "    keras.layers.MaxPooling2D((2, 2)),\n",
        "    keras.layers.Dropout(0.2),\n",
        "    keras.layers.Flatten(),\n",
        "    keras.layers.Dense(128, activation='relu'),\n",
        "    keras.layers.Dropout(0.2),\n",
        "    keras.layers.Dense(16, activation='softmax')\n",
        "])"
      ]
    },
    {
      "cell_type": "code",
      "execution_count": 10,
      "metadata": {
        "id": "ByQHBtDkp-bT"
      },
      "outputs": [],
      "source": [
        "model.compile(optimizer='adam',\n",
        "              loss='categorical_crossentropy',\n",
        "              metrics=['accuracy'])"
      ]
    },
    {
      "cell_type": "code",
      "execution_count": 11,
      "metadata": {
        "colab": {
          "base_uri": "https://localhost:8080/"
        },
        "id": "llvPGW9HqFmp",
        "outputId": "004a6e5b-29f0-4050-ee3e-e71eb1e71d90"
      },
      "outputs": [
        {
          "name": "stdout",
          "output_type": "stream",
          "text": [
            "Epoch 1/100\n",
            "5/5 [==============================] - 130s 29s/step - loss: 6.1006 - accuracy: 0.0800 - val_loss: 2.7591 - val_accuracy: 0.1338\n",
            "Epoch 2/100\n",
            "5/5 [==============================] - 117s 26s/step - loss: 2.7017 - accuracy: 0.1400 - val_loss: 2.6856 - val_accuracy: 0.1274\n",
            "Epoch 3/100\n",
            "5/5 [==============================] - 141s 32s/step - loss: 2.6195 - accuracy: 0.1667 - val_loss: 2.6761 - val_accuracy: 0.1720\n",
            "Epoch 4/100\n",
            "5/5 [==============================] - 122s 26s/step - loss: 2.5032 - accuracy: 0.1933 - val_loss: 2.8011 - val_accuracy: 0.1401\n",
            "Epoch 5/100\n",
            "5/5 [==============================] - 117s 25s/step - loss: 2.4964 - accuracy: 0.2333 - val_loss: 2.6832 - val_accuracy: 0.2166\n",
            "Epoch 6/100\n",
            "5/5 [==============================] - 117s 26s/step - loss: 2.3683 - accuracy: 0.2267 - val_loss: 2.7192 - val_accuracy: 0.2675\n",
            "Epoch 7/100\n",
            "5/5 [==============================] - 116s 26s/step - loss: 2.3003 - accuracy: 0.2867 - val_loss: 2.8389 - val_accuracy: 0.2293\n",
            "Epoch 8/100\n",
            "5/5 [==============================] - 140s 32s/step - loss: 2.2786 - accuracy: 0.2933 - val_loss: 2.7495 - val_accuracy: 0.2548\n",
            "Epoch 9/100\n",
            "5/5 [==============================] - 141s 31s/step - loss: 2.2261 - accuracy: 0.2800 - val_loss: 2.7799 - val_accuracy: 0.2484\n",
            "Epoch 10/100\n",
            "5/5 [==============================] - 113s 25s/step - loss: 2.1959 - accuracy: 0.2867 - val_loss: 2.6954 - val_accuracy: 0.2102\n",
            "Epoch 11/100\n",
            "5/5 [==============================] - 136s 31s/step - loss: 2.1463 - accuracy: 0.3133 - val_loss: 2.7742 - val_accuracy: 0.2293\n",
            "Epoch 12/100\n",
            "5/5 [==============================] - 113s 25s/step - loss: 2.0211 - accuracy: 0.3733 - val_loss: 2.7734 - val_accuracy: 0.2548\n",
            "Epoch 13/100\n",
            "5/5 [==============================] - 116s 26s/step - loss: 2.0604 - accuracy: 0.3267 - val_loss: 2.7345 - val_accuracy: 0.2484\n",
            "Epoch 14/100\n",
            "5/5 [==============================] - 143s 33s/step - loss: 2.0053 - accuracy: 0.3333 - val_loss: 2.8606 - val_accuracy: 0.2293\n",
            "Epoch 15/100\n",
            "5/5 [==============================] - 136s 31s/step - loss: 1.9603 - accuracy: 0.3733 - val_loss: 2.7248 - val_accuracy: 0.2229\n",
            "Epoch 16/100\n",
            "5/5 [==============================] - 112s 24s/step - loss: 1.9025 - accuracy: 0.3400 - val_loss: 2.8543 - val_accuracy: 0.2166\n",
            "Epoch 17/100\n",
            "5/5 [==============================] - 113s 25s/step - loss: 1.8131 - accuracy: 0.4000 - val_loss: 2.7684 - val_accuracy: 0.2229\n",
            "Epoch 18/100\n",
            "5/5 [==============================] - 136s 31s/step - loss: 1.7407 - accuracy: 0.3933 - val_loss: 2.8566 - val_accuracy: 0.2229\n",
            "Epoch 19/100\n",
            "5/5 [==============================] - 137s 30s/step - loss: 1.7387 - accuracy: 0.3800 - val_loss: 2.9794 - val_accuracy: 0.2484\n",
            "Epoch 20/100\n",
            "5/5 [==============================] - 137s 31s/step - loss: 1.7422 - accuracy: 0.4133 - val_loss: 2.9581 - val_accuracy: 0.2675\n",
            "Epoch 21/100\n",
            "5/5 [==============================] - 137s 32s/step - loss: 1.6782 - accuracy: 0.4133 - val_loss: 2.8910 - val_accuracy: 0.3057\n",
            "Epoch 22/100\n",
            "5/5 [==============================] - 138s 31s/step - loss: 1.7102 - accuracy: 0.4200 - val_loss: 2.8219 - val_accuracy: 0.2357\n",
            "Epoch 23/100\n",
            "5/5 [==============================] - 137s 30s/step - loss: 1.6411 - accuracy: 0.4667 - val_loss: 2.9190 - val_accuracy: 0.3121\n",
            "Epoch 24/100\n",
            "5/5 [==============================] - 138s 31s/step - loss: 1.5631 - accuracy: 0.4533 - val_loss: 3.1340 - val_accuracy: 0.3312\n",
            "Epoch 25/100\n",
            "5/5 [==============================] - 137s 31s/step - loss: 1.5801 - accuracy: 0.4600 - val_loss: 2.9837 - val_accuracy: 0.2102\n",
            "Epoch 26/100\n",
            "5/5 [==============================] - 111s 25s/step - loss: 1.5612 - accuracy: 0.4533 - val_loss: 2.9687 - val_accuracy: 0.2930\n",
            "Epoch 27/100\n",
            "5/5 [==============================] - 138s 31s/step - loss: 1.4858 - accuracy: 0.5200 - val_loss: 3.1806 - val_accuracy: 0.2866\n",
            "Epoch 28/100\n",
            "5/5 [==============================] - 113s 25s/step - loss: 1.4923 - accuracy: 0.5133 - val_loss: 3.3208 - val_accuracy: 0.2166\n",
            "Epoch 29/100\n",
            "5/5 [==============================] - 114s 25s/step - loss: 1.5598 - accuracy: 0.4533 - val_loss: 3.1514 - val_accuracy: 0.2675\n",
            "Epoch 30/100\n",
            "5/5 [==============================] - 136s 31s/step - loss: 1.6526 - accuracy: 0.4867 - val_loss: 3.0207 - val_accuracy: 0.2866\n",
            "Epoch 31/100\n",
            "5/5 [==============================] - 138s 32s/step - loss: 1.3843 - accuracy: 0.5467 - val_loss: 2.9977 - val_accuracy: 0.3631\n",
            "Epoch 32/100\n",
            "5/5 [==============================] - 113s 26s/step - loss: 1.4474 - accuracy: 0.4600 - val_loss: 2.8460 - val_accuracy: 0.3248\n",
            "Epoch 33/100\n",
            "5/5 [==============================] - 112s 24s/step - loss: 1.2583 - accuracy: 0.6133 - val_loss: 2.9807 - val_accuracy: 0.3439\n",
            "Epoch 34/100\n",
            "5/5 [==============================] - 114s 25s/step - loss: 1.3140 - accuracy: 0.5000 - val_loss: 3.1072 - val_accuracy: 0.3439\n",
            "Epoch 35/100\n",
            "5/5 [==============================] - 137s 30s/step - loss: 1.2872 - accuracy: 0.5467 - val_loss: 3.0689 - val_accuracy: 0.3248\n",
            "Epoch 36/100\n",
            "5/5 [==============================] - 113s 25s/step - loss: 1.1466 - accuracy: 0.6200 - val_loss: 3.4107 - val_accuracy: 0.3185\n",
            "Epoch 37/100\n",
            "5/5 [==============================] - 136s 31s/step - loss: 1.2745 - accuracy: 0.5733 - val_loss: 3.6885 - val_accuracy: 0.3439\n",
            "Epoch 38/100\n",
            "5/5 [==============================] - 111s 26s/step - loss: 1.4477 - accuracy: 0.5267 - val_loss: 3.1361 - val_accuracy: 0.3248\n",
            "Epoch 39/100\n",
            "5/5 [==============================] - 113s 25s/step - loss: 1.2896 - accuracy: 0.5667 - val_loss: 3.1460 - val_accuracy: 0.3248\n",
            "Epoch 40/100\n",
            "5/5 [==============================] - 137s 31s/step - loss: 1.1908 - accuracy: 0.6267 - val_loss: 3.0184 - val_accuracy: 0.3439\n",
            "Epoch 41/100\n",
            "5/5 [==============================] - 137s 31s/step - loss: 1.0622 - accuracy: 0.6467 - val_loss: 3.0748 - val_accuracy: 0.3057\n",
            "Epoch 42/100\n",
            "5/5 [==============================] - 113s 25s/step - loss: 1.0680 - accuracy: 0.6467 - val_loss: 3.1546 - val_accuracy: 0.3376\n",
            "Epoch 43/100\n",
            "5/5 [==============================] - 138s 32s/step - loss: 1.0956 - accuracy: 0.6600 - val_loss: 3.4494 - val_accuracy: 0.2994\n",
            "Epoch 44/100\n",
            "5/5 [==============================] - 113s 26s/step - loss: 1.0700 - accuracy: 0.6467 - val_loss: 3.7007 - val_accuracy: 0.2994\n",
            "Epoch 45/100\n",
            "5/5 [==============================] - 136s 30s/step - loss: 1.2904 - accuracy: 0.5467 - val_loss: 3.6756 - val_accuracy: 0.2293\n",
            "Epoch 46/100\n",
            "5/5 [==============================] - 136s 32s/step - loss: 0.9886 - accuracy: 0.7133 - val_loss: 3.2014 - val_accuracy: 0.3694\n",
            "Epoch 47/100\n",
            "5/5 [==============================] - 138s 31s/step - loss: 1.1011 - accuracy: 0.6333 - val_loss: 3.2624 - val_accuracy: 0.2994\n",
            "Epoch 48/100\n",
            "5/5 [==============================] - 137s 31s/step - loss: 0.9706 - accuracy: 0.7000 - val_loss: 3.6739 - val_accuracy: 0.2994\n",
            "Epoch 49/100\n",
            "5/5 [==============================] - 138s 31s/step - loss: 0.8710 - accuracy: 0.7000 - val_loss: 3.5916 - val_accuracy: 0.3185\n",
            "Epoch 50/100\n",
            "5/5 [==============================] - 137s 31s/step - loss: 0.7988 - accuracy: 0.6933 - val_loss: 3.9369 - val_accuracy: 0.3376\n",
            "Epoch 51/100\n",
            "5/5 [==============================] - 136s 32s/step - loss: 0.7978 - accuracy: 0.7000 - val_loss: 4.0228 - val_accuracy: 0.3057\n",
            "Epoch 52/100\n",
            "5/5 [==============================] - 136s 31s/step - loss: 0.9667 - accuracy: 0.6867 - val_loss: 4.1325 - val_accuracy: 0.2930\n",
            "Epoch 53/100\n",
            "5/5 [==============================] - 137s 31s/step - loss: 0.9537 - accuracy: 0.7067 - val_loss: 4.2534 - val_accuracy: 0.2484\n",
            "Epoch 54/100\n",
            "5/5 [==============================] - 136s 31s/step - loss: 1.0063 - accuracy: 0.6800 - val_loss: 3.8513 - val_accuracy: 0.2994\n",
            "Epoch 55/100\n",
            "5/5 [==============================] - 112s 25s/step - loss: 1.0889 - accuracy: 0.6600 - val_loss: 3.7488 - val_accuracy: 0.3312\n",
            "Epoch 56/100\n",
            "5/5 [==============================] - 136s 31s/step - loss: 1.0484 - accuracy: 0.6600 - val_loss: 3.6466 - val_accuracy: 0.3439\n",
            "Epoch 57/100\n",
            "5/5 [==============================] - 137s 32s/step - loss: 0.9562 - accuracy: 0.7067 - val_loss: 3.3869 - val_accuracy: 0.2994\n",
            "Epoch 58/100\n",
            "5/5 [==============================] - 139s 31s/step - loss: 0.9425 - accuracy: 0.6933 - val_loss: 3.6873 - val_accuracy: 0.2930\n",
            "Epoch 59/100\n",
            "5/5 [==============================] - 137s 31s/step - loss: 0.8317 - accuracy: 0.7467 - val_loss: 3.6216 - val_accuracy: 0.3312\n",
            "Epoch 60/100\n",
            "5/5 [==============================] - 112s 25s/step - loss: 0.7465 - accuracy: 0.7400 - val_loss: 3.7567 - val_accuracy: 0.3885\n",
            "Epoch 61/100\n",
            "5/5 [==============================] - 138s 30s/step - loss: 0.8324 - accuracy: 0.7333 - val_loss: 3.9336 - val_accuracy: 0.3185\n",
            "Epoch 62/100\n",
            "5/5 [==============================] - 113s 25s/step - loss: 0.7466 - accuracy: 0.7733 - val_loss: 4.4881 - val_accuracy: 0.3057\n",
            "Epoch 63/100\n",
            "5/5 [==============================] - 138s 31s/step - loss: 0.7179 - accuracy: 0.7867 - val_loss: 4.2525 - val_accuracy: 0.3439\n",
            "Epoch 64/100\n",
            "5/5 [==============================] - 114s 25s/step - loss: 0.7128 - accuracy: 0.7867 - val_loss: 4.1800 - val_accuracy: 0.3567\n",
            "Epoch 65/100\n",
            "5/5 [==============================] - 137s 31s/step - loss: 0.6924 - accuracy: 0.7733 - val_loss: 4.3405 - val_accuracy: 0.3121\n",
            "Epoch 66/100\n",
            "5/5 [==============================] - 112s 25s/step - loss: 0.7068 - accuracy: 0.7667 - val_loss: 4.3935 - val_accuracy: 0.2930\n",
            "Epoch 67/100\n",
            "5/5 [==============================] - 137s 32s/step - loss: 0.6215 - accuracy: 0.7867 - val_loss: 3.9860 - val_accuracy: 0.3758\n",
            "Epoch 68/100\n",
            "5/5 [==============================] - 112s 26s/step - loss: 0.6839 - accuracy: 0.7400 - val_loss: 4.0070 - val_accuracy: 0.3439\n",
            "Epoch 69/100\n",
            "5/5 [==============================] - 137s 32s/step - loss: 0.7110 - accuracy: 0.7667 - val_loss: 4.1812 - val_accuracy: 0.3439\n",
            "Epoch 70/100\n",
            "5/5 [==============================] - 136s 31s/step - loss: 0.6575 - accuracy: 0.8067 - val_loss: 4.2740 - val_accuracy: 0.3312\n",
            "Epoch 71/100\n",
            "5/5 [==============================] - 112s 25s/step - loss: 0.6491 - accuracy: 0.7667 - val_loss: 4.1028 - val_accuracy: 0.3248\n",
            "Epoch 72/100\n",
            "5/5 [==============================] - 114s 25s/step - loss: 0.7253 - accuracy: 0.7600 - val_loss: 4.1693 - val_accuracy: 0.3439\n",
            "Epoch 73/100\n",
            "5/5 [==============================] - 111s 24s/step - loss: 0.7346 - accuracy: 0.7400 - val_loss: 4.0962 - val_accuracy: 0.2803\n",
            "Epoch 74/100\n",
            "5/5 [==============================] - 112s 24s/step - loss: 0.6003 - accuracy: 0.8067 - val_loss: 4.4071 - val_accuracy: 0.3185\n",
            "Epoch 75/100\n",
            "5/5 [==============================] - 137s 31s/step - loss: 0.5787 - accuracy: 0.8400 - val_loss: 4.6107 - val_accuracy: 0.3312\n",
            "Epoch 76/100\n",
            "5/5 [==============================] - 112s 25s/step - loss: 0.6464 - accuracy: 0.8133 - val_loss: 4.3383 - val_accuracy: 0.3503\n",
            "Epoch 77/100\n",
            "5/5 [==============================] - 111s 25s/step - loss: 0.7322 - accuracy: 0.7667 - val_loss: 4.6072 - val_accuracy: 0.2803\n",
            "Epoch 78/100\n",
            "5/5 [==============================] - 113s 25s/step - loss: 0.7919 - accuracy: 0.7000 - val_loss: 4.6390 - val_accuracy: 0.3758\n",
            "Epoch 79/100\n",
            "5/5 [==============================] - 138s 31s/step - loss: 0.6120 - accuracy: 0.7867 - val_loss: 4.6916 - val_accuracy: 0.3885\n",
            "Epoch 80/100\n",
            "5/5 [==============================] - 137s 30s/step - loss: 0.6633 - accuracy: 0.7667 - val_loss: 4.4738 - val_accuracy: 0.3185\n",
            "Epoch 81/100\n",
            "5/5 [==============================] - 114s 25s/step - loss: 0.5294 - accuracy: 0.7867 - val_loss: 4.5323 - val_accuracy: 0.3057\n",
            "Epoch 82/100\n",
            "5/5 [==============================] - 137s 31s/step - loss: 0.4981 - accuracy: 0.8267 - val_loss: 4.5589 - val_accuracy: 0.3503\n",
            "Epoch 83/100\n",
            "5/5 [==============================] - 137s 31s/step - loss: 0.6247 - accuracy: 0.7600 - val_loss: 4.7242 - val_accuracy: 0.3822\n",
            "Epoch 84/100\n",
            "5/5 [==============================] - 112s 24s/step - loss: 0.6365 - accuracy: 0.8067 - val_loss: 5.1966 - val_accuracy: 0.2994\n",
            "Epoch 85/100\n",
            "5/5 [==============================] - 137s 31s/step - loss: 0.5327 - accuracy: 0.7867 - val_loss: 4.7780 - val_accuracy: 0.3376\n",
            "Epoch 86/100\n",
            "5/5 [==============================] - 137s 32s/step - loss: 0.5575 - accuracy: 0.7800 - val_loss: 4.7171 - val_accuracy: 0.3121\n",
            "Epoch 87/100\n",
            "5/5 [==============================] - 137s 32s/step - loss: 0.6425 - accuracy: 0.7800 - val_loss: 4.8833 - val_accuracy: 0.2229\n",
            "Epoch 88/100\n",
            "5/5 [==============================] - 136s 30s/step - loss: 0.7062 - accuracy: 0.7200 - val_loss: 4.7226 - val_accuracy: 0.3248\n",
            "Epoch 89/100\n",
            "5/5 [==============================] - 138s 32s/step - loss: 0.6434 - accuracy: 0.8200 - val_loss: 4.1937 - val_accuracy: 0.3376\n",
            "Epoch 90/100\n",
            "5/5 [==============================] - 136s 32s/step - loss: 0.5086 - accuracy: 0.8067 - val_loss: 4.3898 - val_accuracy: 0.3439\n",
            "Epoch 91/100\n",
            "5/5 [==============================] - 111s 25s/step - loss: 0.4899 - accuracy: 0.8200 - val_loss: 4.4429 - val_accuracy: 0.3503\n",
            "Epoch 92/100\n",
            "5/5 [==============================] - 135s 30s/step - loss: 0.4642 - accuracy: 0.8400 - val_loss: 4.6864 - val_accuracy: 0.3567\n",
            "Epoch 93/100\n",
            "5/5 [==============================] - 138s 32s/step - loss: 0.5287 - accuracy: 0.8200 - val_loss: 5.0538 - val_accuracy: 0.3057\n",
            "Epoch 94/100\n",
            "5/5 [==============================] - 137s 31s/step - loss: 0.3934 - accuracy: 0.8733 - val_loss: 5.4564 - val_accuracy: 0.3376\n",
            "Epoch 95/100\n",
            "5/5 [==============================] - 137s 31s/step - loss: 0.3445 - accuracy: 0.8867 - val_loss: 5.3518 - val_accuracy: 0.3822\n",
            "Epoch 96/100\n",
            "5/5 [==============================] - 135s 30s/step - loss: 0.5033 - accuracy: 0.8333 - val_loss: 5.3933 - val_accuracy: 0.3885\n",
            "Epoch 97/100\n",
            "5/5 [==============================] - 114s 24s/step - loss: 0.4859 - accuracy: 0.8667 - val_loss: 5.6390 - val_accuracy: 0.3694\n",
            "Epoch 98/100\n",
            "5/5 [==============================] - 138s 31s/step - loss: 0.6016 - accuracy: 0.7933 - val_loss: 4.7159 - val_accuracy: 0.3822\n",
            "Epoch 99/100\n",
            "5/5 [==============================] - 137s 30s/step - loss: 0.6223 - accuracy: 0.7867 - val_loss: 4.7748 - val_accuracy: 0.3057\n",
            "Epoch 100/100\n",
            "5/5 [==============================] - 137s 31s/step - loss: 0.5040 - accuracy: 0.8400 - val_loss: 4.9962 - val_accuracy: 0.2930\n"
          ]
        },
        {
          "data": {
            "text/plain": [
              "<keras.callbacks.History at 0x7f22f1ffbdf0>"
            ]
          },
          "execution_count": 11,
          "metadata": {},
          "output_type": "execute_result"
        }
      ],
      "source": [
        "epochs = 100\n",
        "model.fit(train_generator,\n",
        "          epochs=epochs,\n",
        "          validation_data=test_generator)"
      ]
    }
  ],
  "metadata": {
    "colab": {
      "gpuType": "T4",
      "provenance": []
    },
    "kernelspec": {
      "display_name": "Python 3",
      "name": "python3"
    },
    "language_info": {
      "codemirror_mode": {
        "name": "ipython",
        "version": 3
      },
      "file_extension": ".py",
      "mimetype": "text/x-python",
      "name": "python",
      "nbconvert_exporter": "python",
      "pygments_lexer": "ipython3",
      "version": "3.7.4"
    }
  },
  "nbformat": 4,
  "nbformat_minor": 0
}
